{
 "cells": [
  {
   "attachments": {},
   "cell_type": "markdown",
   "metadata": {},
   "source": [
    "# Computer Vision"
   ]
  },
  {
   "cell_type": "code",
   "execution_count": null,
   "metadata": {},
   "outputs": [],
   "source": [
    "# What is computer vision?\n",
    "# Computer vision is a field of artificial intelligence that trains computers to interpret and understand the visual world.\n",
    "# Using digital images from cameras and videos and deep learning models, machines can accurately identify and classify objects — and then react to what they “see.”\n",
    "\n",
    "# q: what ml structure is most commonly used for computer vision?\n",
    "# a: convolutional neural networks (CNNs)\n",
    "\n"
   ]
  },
  {
   "attachments": {},
   "cell_type": "markdown",
   "metadata": {},
   "source": [
    "# Neural Networks"
   ]
  },
  {
   "cell_type": "code",
   "execution_count": null,
   "metadata": {},
   "outputs": [],
   "source": [
    "# what is a neural network\n",
    "# a neural network is a series of algorithms that endeavors to recognize underlying relationships in a set of data through a process that mimics the way the human brain operates.\n",
    "# neural networks can adapt to changing input; so the network generates the best possible result without needing to redesign the output criteria.\n",
    "\n",
    "# q: what differentiates a convolutional neural network?\n",
    "# a: a convolutional neural network is a type of neural network that uses mathematical operations called convolutions to process data inputs.\n",
    "\n",
    "#q: what tools can we use to work with CNNs?\n",
    "# a: we can use the keras library to build and train CNNs in python\n",
    "\n"
   ]
  },
  {
   "attachments": {},
   "cell_type": "markdown",
   "metadata": {},
   "source": [
    "# PyTorch"
   ]
  },
  {
   "cell_type": "code",
   "execution_count": null,
   "metadata": {},
   "outputs": [],
   "source": [
    "# q: what is pytorch?\n",
    "# a: pytorch is a machine learning library for python based on the torch library, used for applications such as computer vision and natural language processing, primarily developed by facebook's ai research lab (FAIR).\n",
    "\n",
    "# q: what is a tensor?\n",
    "# a: a tensor is a mathematical object that is a generalization of scalars, vectors, and matrices. tensors are used in neural networks to represent data, and also to represent the parameters (weights and biases) of a model."
   ]
  }
 ],
 "metadata": {
  "language_info": {
   "name": "python"
  },
  "orig_nbformat": 4
 },
 "nbformat": 4,
 "nbformat_minor": 2
}
